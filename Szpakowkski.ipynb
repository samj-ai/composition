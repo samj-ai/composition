{
  "nbformat": 4,
  "nbformat_minor": 0,
  "metadata": {
    "colab": {
      "provenance": [],
      "authorship_tag": "ABX9TyNn3fsDp1/ZYRBexxwR5wRq",
      "include_colab_link": true
    },
    "kernelspec": {
      "name": "python3",
      "display_name": "Python 3"
    },
    "language_info": {
      "name": "python"
    }
  },
  "cells": [
    {
      "cell_type": "markdown",
      "metadata": {
        "id": "view-in-github",
        "colab_type": "text"
      },
      "source": [
        "<a href=\"https://colab.research.google.com/github/samj-ai/composition/blob/main/Szpakowkski.ipynb\" target=\"_parent\"><img src=\"https://colab.research.google.com/assets/colab-badge.svg\" alt=\"Open In Colab\"/></a>"
      ]
    },
    {
      "cell_type": "markdown",
      "source": [
        "# Szpakowski\n",
        "\n",
        "https://www.theparisreview.org/blog/2017/02/15/rhythmical-lines/  \n",
        "  \n",
        "  \n",
        "<img src=\"https://drive.google.com/uc?id=1ualyEj29FXNLLPZ9g6C_BSX9pm_457Qf\" width=\"500\" height=\"300\" alt=\"Image description\">"
      ],
      "metadata": {
        "id": "Y2XX2cSTZhJV"
      }
    },
    {
      "cell_type": "code",
      "source": [
        "from dataclasses import dataclass"
      ],
      "metadata": {
        "id": "Ibh_YvtocBoY"
      },
      "execution_count": null,
      "outputs": []
    },
    {
      "cell_type": "code",
      "source": [
        "import matplotlib.pyplot as plt\n",
        "import numpy as np\n",
        "\n",
        "def draw_szpakowski_line(path,\n",
        "    line_width=1,\n",
        "    grid_size=20,\n",
        "    figsize=(5, 5)\n",
        "    ):\n",
        "    \"\"\"\n",
        "    Draw a single continuous line with 90-degree turns.\n",
        "\n",
        "    Parameters:\n",
        "    - path: List of (x, y) coordinates to visit in order\n",
        "    - line_width (optional): Width of the line\n",
        "    - grid_size (optional): Size of the grid (higher = more pixelated)\n",
        "    \"\"\"\n",
        "    # Create figure with white background and no axes\n",
        "    fig, ax = plt.subplots(figsize=figsize, facecolor='white')\n",
        "\n",
        "    # Convert path to arrays for plotting\n",
        "    path = np.array(path)\n",
        "    x, y = path[:, 0], path[:, 1]\n",
        "\n",
        "    # Plot the single continuous line\n",
        "    ax.plot(x, y, 'k-', linewidth=line_width, solid_capstyle='round')\n",
        "\n",
        "    # Set equal aspect ratio and remove axes\n",
        "    ax.set_aspect('equal')\n",
        "    ax.axis('off')\n",
        "\n",
        "    # Set limits with some padding\n",
        "    padding = grid_size * 0.1\n",
        "    ax.set_xlim(min(x) - padding, max(x) + padding)\n",
        "    ax.set_ylim(min(y) - padding, max(y) + padding)\n",
        "\n",
        "    # Show light grid if desired (comment out for final version)\n",
        "    ax.grid(True, linestyle=':', alpha=0.9)\n",
        "\n",
        "    plt.tight_layout()\n",
        "    return fig\n",
        "\n",
        "# Example: Create a simple Szpakowski-inspired pattern\n",
        "# Path is a series of (x,y) coordinates\n",
        "path = [(0, 0)]\n",
        "current = path[0]\n",
        "step_size = 1\n",
        "\n",
        "# Create a meandering pattern with only 90-degree turns\n",
        "moves = [(1, 0), (0, 1), (-1, 0), (0, -1)]  # right, up, left, down\n",
        "pattern = [0, 1, 0, 1, 0, 3, 0, 3, 2, 3, 2, 3, 2, 1, 2, 1]  # sequence of move indices\n",
        "\n",
        "for move_idx in pattern:\n",
        "    dx, dy = moves[move_idx]\n",
        "    current = (current[0] + dx * step_size, current[1] + dy * step_size)  # Scale by 5 for visibility\n",
        "    path.append(current)\n",
        "\n",
        "# Draw the pattern\n",
        "fig = draw_szpakowski_line(path, line_width=1.5, grid_size=40)\n",
        "plt.show()"
      ],
      "metadata": {
        "colab": {
          "base_uri": "https://localhost:8080/",
          "height": 507
        },
        "id": "GbGJWt4odVnr",
        "outputId": "558c59ce-c279-45dd-9249-4fcf89a7c1ec"
      },
      "execution_count": null,
      "outputs": [
        {
          "output_type": "display_data",
          "data": {
            "text/plain": [
              "<Figure size 500x500 with 1 Axes>"
            ],
            "image/png": "[encoded data removed]"
          },
          "metadata": {}
        }
      ]
    },
    {
      "cell_type": "code",
      "source": [
        "def create_szpakowski_system(max_depth=3):\n",
        "    # Define a library of pattern subroutines\n",
        "    patterns = {\n",
        "        'meander': lambda x, y, scale: meander_pattern(x, y, scale),\n",
        "        'zigzag': lambda x, y, scale: zigzag_pattern(x, y, scale),\n",
        "        'spiral': lambda x, y, scale: spiral_pattern(x, y, scale),\n",
        "        # etc.\n",
        "    }\n",
        "\n",
        "    # Rules for composition and transition between patterns\n",
        "    def compose(x, y, scale, depth=0):\n",
        "        if depth >= max_depth:\n",
        "            return []\n",
        "\n",
        "        path = []\n",
        "        # Choose pattern based on position/context\n",
        "        if x % 2 == 0 and y % 2 == 0:\n",
        "            path.extend(patterns['meander'](x, y, scale))\n",
        "            # Position after completing meander\n",
        "            next_x, next_y = x + scale*5, y\n",
        "            # Recursively compose with another pattern\n",
        "            path.extend(compose(next_x, next_y, scale*0.8, depth+1))\n",
        "        else:\n",
        "            path.extend(patterns['zigzag'](x, y, scale))\n",
        "            # etc.\n",
        "\n",
        "        return path"
      ],
      "metadata": {
        "id": "OzR86WGic2Nm"
      },
      "execution_count": null,
      "outputs": []
    },
    {
      "cell_type": "code",
      "source": [
        "def meander_pattern(start_pos=(0,0), scale=1, iterations=1):\n",
        "    path = [start_pos]\n",
        "    pass\n",
        "\n",
        "def symmetric_spiral(start_pos=(0,0), scale=1, iterations=3):\n",
        "    path = [start_pos]\n",
        "    path.append(start_pos + moves.d)\n",
        "    step_size = scale\n",
        "    # grow from either end of starting path segment (length 1)\n",
        "    # beginning must break symmetry\n",
        "    next = [(moves.u, moves.d), (moves.d, moves.l)]\n",
        "    for i in iterations:\n",
        "        path.prepend(path[0] + moves.l)\n",
        "        path.append(path[-1] + moves.r)\n",
        "        step_size += i + 1\n",
        "        path.append()\n",
        "\n",
        "\n",
        "def create_pattern(pattern_type, start_pos, scale, direction):\n",
        "    \"\"\"Generate coordinates for different pattern types\"\"\"\n",
        "    path = [start_pos]\n",
        "    x, y = start_pos\n",
        "\n",
        "    if pattern_type == \"meander\":\n",
        "        # Create horizontal meander pattern\n",
        "        for i in range(5):\n",
        "            # Move right\n",
        "            x += scale\n",
        "            path.append((x, y))\n",
        "            # Up or down depending on position\n",
        "            delta_y = scale if i % 2 == 0 else -scale\n",
        "            y += delta_y\n",
        "            path.append((x, y))\n",
        "\n",
        "    elif pattern_type == \"zigzag\":\n",
        "        # Create zigzag pattern\n",
        "        # ...etc\n",
        "        pass\n",
        "\n",
        "    return path, (x, y)  # Return path and end position\n",
        "\n",
        "def compose_drawing(canvas_size, scale):\n",
        "    \"\"\"Create full drawing by composing patterns\"\"\"\n",
        "    full_path = [(0, 0)]\n",
        "    position = (0, 0)\n",
        "\n",
        "    # First pattern\n",
        "    new_segment, position = create_pattern(\"meander\", position, scale, \"right\")\n",
        "    full_path.extend(new_segment[1:])  # Skip first point to avoid duplication\n",
        "\n",
        "    # Second pattern\n",
        "    new_segment, position = create_pattern(\"zigzag\", position, scale/2, \"up\")\n",
        "    full_path.extend(new_segment[1:])\n",
        "\n",
        "    # Apply transformations or compose recursively\n",
        "    # ...\n",
        "\n",
        "    return full_path"
      ],
      "metadata": {
        "id": "EblUAe8DdME4"
      },
      "execution_count": null,
      "outputs": []
    },
    {
      "cell_type": "markdown",
      "source": [
        "# Experiment with Dictionary Implementation"
      ],
      "metadata": {
        "id": "N1f6tQtPaIOX"
      }
    },
    {
      "cell_type": "code",
      "source": [
        "import matplotlib.pyplot as plt\n",
        "import numpy as np\n",
        "\n",
        "def draw_szpakowski_line(path,\n",
        "    line_width=1,\n",
        "    grid_size=20,\n",
        "    figsize=(5, 5)\n",
        "    ):\n",
        "    \"\"\"\n",
        "    Draw a single continuous line with 90-degree turns.\n",
        "\n",
        "    Parameters:\n",
        "    - path: List of (x, y) coordinates to visit in order\n",
        "    - line_width (optional): Width of the line\n",
        "    - grid_size (optional): Size of the grid (higher = more pixelated)\n",
        "    \"\"\"\n",
        "    # Create figure with white background and no axes\n",
        "    fig, ax = plt.subplots(figsize=figsize, facecolor='white')\n",
        "\n",
        "    # Convert path to arrays for plotting\n",
        "    path = np.array(path)\n",
        "    x, y = path[:, 0], path[:, 1]\n",
        "\n",
        "    # Plot the single continuous line\n",
        "    ax.plot(x, y, 'k-', linewidth=line_width, solid_capstyle='round')\n",
        "\n",
        "    # Set equal aspect ratio and remove axes\n",
        "    ax.set_aspect('equal')\n",
        "    ax.axis('off')\n",
        "\n",
        "    # Set limits with some padding\n",
        "    padding = grid_size * 0.1\n",
        "    ax.set_xlim(min(x) - padding, max(x) + padding)\n",
        "    ax.set_ylim(min(y) - padding, max(y) + padding)\n",
        "\n",
        "    # Show light grid if desired (comment out for final version)\n",
        "    ax.grid(True, linestyle=':', alpha=0.9)\n",
        "\n",
        "    plt.tight_layout()\n",
        "    return fig\n",
        "\n",
        "# Example: Create a simple Szpakowski-inspired pattern\n",
        "# Path is a series of (x,y) coordinates\n",
        "path = [(0, 0)]\n",
        "current = path[0]\n",
        "step_size = 1\n",
        "\n",
        "# Create a meandering pattern with only 90-degree turns\n",
        "moves = [(1, 0), (0, 1), (-1, 0), (0, -1)]  # right, up, left, down\n",
        "pattern = [0, 1, 0, 1, 0, 3, 0, 3, 2, 3, 2, 3, 2, 1, 2, 1]  # sequence of move indices\n",
        "\n",
        "for move_idx in pattern:\n",
        "    dx, dy = moves[move_idx]\n",
        "    current = (current[0] + dx * step_size, current[1] + dy * step_size)  # Scale by 5 for visibility\n",
        "    path.append(current)\n",
        "\n",
        "# Draw the pattern\n",
        "fig = draw_szpakowski_line(path, line_width=1.5, grid_size=40)\n",
        "plt.show()"
      ],
      "metadata": {
        "colab": {
          "base_uri": "https://localhost:8080/",
          "height": 506
        },
        "id": "smoQfwiAKRRd",
        "outputId": "a86f093c-4e3a-42e9-8e4f-b3a91406bb6f"
      },
      "execution_count": 2,
      "outputs": [
        {
          "output_type": "display_data",
          "data": {
            "text/plain": [
              "<Figure size 500x500 with 1 Axes>"
            ],
            "image/png": "[encoded data removed]"
          },
          "metadata": {}
        }
      ]
    },
    {
      "cell_type": "code",
      "source": [
        "# Define a Point as a simple tuple (x, y)\n",
        "# A Path is a list of Points\n",
        "\n",
        "# Primitive movement functions\n",
        "def move_right(path, steps=1):\n",
        "    last_point = path[-1]\n",
        "    new_points = [(last_point[0] + i + 1, last_point[1]) for i in range(steps)]\n",
        "    return path + new_points\n",
        "\n",
        "def move_left(path, steps=1):\n",
        "    last_point = path[-1]\n",
        "    new_points = [(last_point[0] - i - 1, last_point[1]) for i in range(steps)]\n",
        "    return path + new_points\n",
        "\n",
        "def move_up(path, steps=1):\n",
        "    last_point = path[-1]\n",
        "    new_points = [(last_point[0], last_point[1] - i - 1) for i in range(steps)]\n",
        "    return path + new_points\n",
        "\n",
        "def move_down(path, steps=1):\n",
        "    last_point = path[-1]\n",
        "    new_points = [(last_point[0], last_point[1] + i + 1) for i in range(steps)]\n",
        "    return path + new_points\n",
        "\n",
        "# Pattern composition functions\n",
        "def square(path, size=3):\n",
        "    path = move_right(path, size)\n",
        "    path = move_down(path, size)\n",
        "    path = move_left(path, size)\n",
        "    path = move_up(path, size)\n",
        "    return path\n",
        "\n",
        "def zigzag(path, width=3, height=2, count=3):\n",
        "    for _ in range(count):\n",
        "        path = move_right(path, width)\n",
        "        path = move_down(path, height)\n",
        "        path = move_right(path, width)\n",
        "        path = move_up(path, height)\n",
        "    return path\n",
        "\n",
        "def zigzag(path, width=3, height=2, count=3, step=None):\n",
        "    for _ in range(count):\n",
        "        path = move_right(path, width)\n",
        "        path = move_down(path, height)\n",
        "        path = move_right(path, width)\n",
        "        path = move_up(path, height)\n",
        "    return path\n",
        "\n",
        "# Helper functions\n",
        "def start_at(x=0, y=0):\n",
        "    return [(x, y)]\n",
        "\n",
        "# Higher-order function for combining patterns\n",
        "def then(path_fn1, path_fn2):\n",
        "    def combined(path):\n",
        "        return path_fn2(path_fn1(path))\n",
        "    return combined\n",
        "\n",
        "# Complex pattern through composition\n",
        "def fancy_pattern(path):\n",
        "    # Define a pattern as a function composition\n",
        "    pattern = then(\n",
        "        lambda p: square(p, 5),\n",
        "        lambda p: zigzag(p[:-1], 1, 1, 2)  # Remove last point to avoid overlap\n",
        "    )\n",
        "    return pattern(path)"
      ],
      "metadata": {
        "id": "aclOlDpF1RCI"
      },
      "execution_count": 21,
      "outputs": []
    },
    {
      "cell_type": "code",
      "source": [
        "# make the path\n",
        "path = [(0, 0)]\n",
        "path = fancy_pattern(path)"
      ],
      "metadata": {
        "id": "8xrMmb7S5IH-"
      },
      "execution_count": 23,
      "outputs": []
    },
    {
      "cell_type": "code",
      "source": [
        "# Draw the pattern\n",
        "fig = draw_szpakowski_line(path, line_width=1.5, grid_size=40)\n",
        "plt.show()"
      ],
      "metadata": {
        "colab": {
          "base_uri": "https://localhost:8080/",
          "height": 506
        },
        "id": "cUsIHcQq4Nx0",
        "outputId": "ee5b1b38-52be-4f69-cf6f-09985039d98f"
      },
      "execution_count": 24,
      "outputs": [
        {
          "output_type": "display_data",
          "data": {
            "text/plain": [
              "<Figure size 500x500 with 1 Axes>"
            ],
            "image/png": "[encoded data removed]"
          },
          "metadata": {}
        }
      ]
    },
    {
      "cell_type": "markdown",
      "source": [
        "# Experiment with primitives and facets"
      ],
      "metadata": {
        "id": "Ru6bU6Zq5Uc9"
      }
    },
    {
      "cell_type": "code",
      "source": [
        "path = [(0,0)]\n",
        "path = zigzag(path, 1, 5, 10)\n",
        "\n",
        "fig = draw_szpakowski_line(path)\n",
        "plt.show()"
      ],
      "metadata": {
        "colab": {
          "base_uri": "https://localhost:8080/",
          "height": 213
        },
        "id": "Z19vNrlx-Hi_",
        "outputId": "f40ee596-d9a5-4a2f-b1c5-46e532470413"
      },
      "execution_count": 25,
      "outputs": [
        {
          "output_type": "display_data",
          "data": {
            "text/plain": [
              "<Figure size 500x500 with 1 Axes>"
            ],
            "image/png": "[encoded data removed]"
          },
          "metadata": {}
        }
      ]
    },
    {
      "cell_type": "code",
      "source": [
        "def meander_pattern(start_pos=(0,0), scale=1, iterations=1):\n",
        "    path = [start_pos]\n",
        "    pass\n",
        "\n",
        "def symmetric_spiral(start_pos=(0,0), scale=1, iterations=3):\n",
        "    path = [start_pos]\n",
        "    path.append(start_pos + moves.d)\n",
        "    step_size = scale\n",
        "    # grow from either end of starting path segment (length 1)\n",
        "    # beginning must break symmetry\n",
        "    next = [(moves.u, moves.d), (moves.d, moves.l)]\n",
        "    for i in iterations:\n",
        "        path.prepend(path[0] + moves.l)\n",
        "        path.append(path[-1] + moves.r)\n",
        "        step_size += i + 1\n",
        "        path.append()\n"
      ],
      "metadata": {
        "id": "oZnOtNsC6aeT"
      },
      "execution_count": null,
      "outputs": []
    },
    {
      "cell_type": "code",
      "source": [
        "# Define a class to represent a primitive drawing operation\n",
        "class DrawOperation:\n",
        "    def __init__(self, operation, args=None, kwargs=None):\n",
        "        self.operation = operation\n",
        "        self.args = args or []\n",
        "        self.kwargs = kwargs or {}\n",
        "\n",
        "    def execute(self, path, context=None):\n",
        "        # Clone the arguments to avoid modifying the original\n",
        "        args = self.args.copy()\n",
        "        kwargs = self.kwargs.copy()\n",
        "\n",
        "        # Evaluate any expressions in the arguments\n",
        "        if context:\n",
        "            for k, v in kwargs.items():\n",
        "                if isinstance(v, str) and v.startswith('expr:'):\n",
        "                    expression = v[5:]\n",
        "                    kwargs[k] = eval(expression, globals(), context)\n",
        "\n",
        "        # Apply the operation\n",
        "        return self.operation(path, *args, **kwargs)\n",
        "\n",
        "# Pattern class to maintain a queue of operations\n",
        "class Pattern:\n",
        "    def __init__(self, name=None):\n",
        "        self.operations = []\n",
        "        self.name = name\n",
        "\n",
        "    def add(self, operation, *args, **kwargs):\n",
        "        self.operations.append(DrawOperation(operation, args, kwargs))\n",
        "        return self\n",
        "\n",
        "    def __call__(self, path, **context):\n",
        "        result = path\n",
        "        for op in self.operations:\n",
        "            result = op.execute(result, context)\n",
        "        return result\n",
        "\n",
        "    def articulate(self, modifications):\n",
        "        \"\"\"\n",
        "        Create a new pattern with modified operations.\n",
        "\n",
        "        modifications is a list of (index, kwarg_dict) pairs\n",
        "        where index is the operation index to modify (0-based)\n",
        "        and kwarg_dict contains the parameters to modify\n",
        "        \"\"\"\n",
        "        new_pattern = Pattern(f\"articulated_{self.name}\" if self.name else None)\n",
        "\n",
        "        # Copy all operations, applying modifications\n",
        "        mod_dict = dict(modifications)\n",
        "        for i, op in enumerate(self.operations):\n",
        "            new_op = DrawOperation(op.operation, op.args.copy())\n",
        "\n",
        "            # Apply modifications if this index is in the modification list\n",
        "            if i in mod_dict:\n",
        "                new_op.kwargs = {**op.kwargs, **mod_dict[i]}\n",
        "            else:\n",
        "                new_op.kwargs = op.kwargs.copy()\n",
        "\n",
        "            new_pattern.operations.append(new_op)\n",
        "\n",
        "        return new_pattern"
      ],
      "metadata": {
        "id": "4tjMj0azEdte"
      },
      "execution_count": 26,
      "outputs": []
    },
    {
      "cell_type": "code",
      "source": [
        "# Primitive operations\n",
        "def move_right(path, steps=1):\n",
        "    last_point = path[-1]\n",
        "    new_points = [(last_point[0] + i + 1, last_point[1]) for i in range(steps)]\n",
        "    return path + new_points\n",
        "\n",
        "def move_left(path, steps=1):\n",
        "    last_point = path[-1]\n",
        "    new_points = [(last_point[0] - i - 1, last_point[1]) for i in range(steps)]\n",
        "    return path + new_points\n",
        "\n",
        "def move_up(path, steps=1):\n",
        "    last_point = path[-1]\n",
        "    new_points = [(last_point[0], last_point[1] - i - 1) for i in range(steps)]\n",
        "    return path + new_points\n",
        "\n",
        "def move_down(path, steps=1):\n",
        "    last_point = path[-1]\n",
        "    new_points = [(last_point[0], last_point[1] + i + 1) for i in range(steps)]\n",
        "    return path + new_points\n",
        "\n",
        "# Helper functions\n",
        "def start_at(x=0, y=0):\n",
        "    return [(x, y)]\n",
        "\n",
        "# Note: simple path tool for drawing to\n",
        "def draw_path(path, width=20, height=20):\n",
        "    grid = [[' ' for _ in range(width)] for _ in range(height)]\n",
        "\n",
        "    for x, y in path:\n",
        "        if 0 <= x < width and 0 <= y < height:\n",
        "            grid[y][x] = 'X'\n",
        "\n",
        "    for row in grid:\n",
        "        print(''.join(row))\n",
        "\n",
        "    return path\n",
        "\n",
        "# Define patterns using the Pattern class\n",
        "zigzag = Pattern(\"zigzag\")\n",
        "zigzag.add(move_right, steps=3)\n",
        "zigzag.add(move_down, steps=2)\n",
        "zigzag.add(move_right, steps=3)\n",
        "zigzag.add(move_up, steps=2)\n",
        "\n",
        "# Create a compound pattern that applies zigzag multiple times\n",
        "def create_multi_zigzag(count=3):\n",
        "    multi_zigzag = Pattern(\"multi_zigzag\")\n",
        "\n",
        "    for i in range(count):\n",
        "        # Add context variables that can be used in expressions\n",
        "        multi_zigzag.add(zigzag, **{'i': i})\n",
        "\n",
        "    return multi_zigzag\n",
        "\n",
        "# Example: Create an articulated zigzag where height decreases\n",
        "diminishing_zigzag = zigzag.articulate([\n",
        "    (1, {'steps': 'expr:3'}),           # First operation (move_right)\n",
        "    (2, {'steps': 'expr:2 - i'}),       # Second operation (move_down)\n",
        "    (3, {'steps': 'expr:3'}),           # Third operation (move_right)\n",
        "    (4, {'steps': 'expr:2 - i'})        # Fourth operation (move_up)\n",
        "])\n",
        "\n",
        "# Create a multi-pattern with the articulated zigzag\n",
        "multi_diminishing = create_multi_zigzag()\n",
        "\n",
        "# Example usage\n",
        "if __name__ == \"__main__\":\n",
        "    # Regular zigzag\n",
        "    print(\"Regular zigzag:\")\n",
        "    path = zigzag(start_at(2, 2))\n",
        "    fig = draw_szpakowski_line(path)\n",
        "    plt.show()\n",
        "\n",
        "    # Diminishing zigzag\n",
        "    print(\"\\nDiminishing zigzag:\")\n",
        "    path = start_at(2, 2)\n",
        "    for i in range(3):\n",
        "        path = diminishing_zigzag(path, i=i)\n",
        "    fig = draw_szpakowski_line(path)\n",
        "    plt.show()\n",
        "\n",
        "    # You can also apply advanced articulations:\n",
        "    spiral_zigzag = zigzag.articulate([\n",
        "        (1, {'steps': 'expr:3 + i'}),  # Increasing width\n",
        "        (2, {'steps': 'expr:2'}),\n",
        "        (3, {'steps': 'expr:3 + i'}),  # Increasing width\n",
        "        (4, {'steps': 'expr:2'})\n",
        "    ])\n",
        "\n",
        "    print(\"\\nSpiral zigzag:\")\n",
        "    path = start_at(2, 2)\n",
        "    for i in range(3):\n",
        "        path = spiral_zigzag(path, i=i)\n",
        "    fig = draw_szpakowski_line(path)\n",
        "    plt.show()"
      ],
      "metadata": {
        "colab": {
          "base_uri": "https://localhost:8080/",
          "height": 872
        },
        "id": "3NhkyyPVEfoy",
        "outputId": "67861b28-d1ec-4aa1-b68d-e4f0f59d6071"
      },
      "execution_count": 29,
      "outputs": [
        {
          "output_type": "stream",
          "name": "stdout",
          "text": [
            "Regular zigzag:\n"
          ]
        },
        {
          "output_type": "display_data",
          "data": {
            "text/plain": [
              "<Figure size 500x500 with 1 Axes>"
            ],
            "image/png": "[encoded data removed]"
          },
          "metadata": {}
        },
        {
          "output_type": "stream",
          "name": "stdout",
          "text": [
            "\n",
            "Diminishing zigzag:\n"
          ]
        },
        {
          "output_type": "display_data",
          "data": {
            "text/plain": [
              "<Figure size 500x500 with 1 Axes>"
            ],
            "image/png": "[encoded data removed]"
          },
          "metadata": {}
        },
        {
          "output_type": "stream",
          "name": "stdout",
          "text": [
            "\n",
            "Spiral zigzag:\n"
          ]
        },
        {
          "output_type": "display_data",
          "data": {
            "text/plain": [
              "<Figure size 500x500 with 1 Axes>"
            ],
            "image/png": "[encoded data removed]"
          },
          "metadata": {}
        }
      ]
    },
    {
      "cell_type": "code",
      "source": [
        "# Combine patterns sequentially\n",
        "def sequence(*patterns):\n",
        "    combined = Pattern(\"sequence\")\n",
        "    for pattern in patterns:\n",
        "        combined.add(pattern)\n",
        "    return combined\n",
        "\n",
        "# Repeat a pattern multiple times\n",
        "def repeat(pattern, count=3):\n",
        "    repeated = Pattern(f\"repeat_{pattern.name}\")\n",
        "    for i in range(count):\n",
        "        repeated.add(pattern, i=i)\n",
        "    return repeated\n",
        "\n",
        "# More complex example\n",
        "square = Pattern(\"square\")\n",
        "square.add(move_right, steps=5)\n",
        "square.add(move_down, steps=5)\n",
        "square.add(move_left, steps=5)\n",
        "square.add(move_up, steps=5)\n",
        "\n",
        "# Complex pattern through composition\n",
        "fancy_pattern = sequence(\n",
        "    square,\n",
        "    repeat(zigzag.articulate([\n",
        "        (1, {'steps': 'expr:i + 1'}),\n",
        "        (3, {'steps': 'expr:i + 1'})\n",
        "    ]), 3)\n",
        ")"
      ],
      "metadata": {
        "id": "jcBYAvYgEi0d"
      },
      "execution_count": 30,
      "outputs": []
    },
    {
      "cell_type": "code",
      "source": [
        "# tests\n",
        "path = fancy_pattern(start_at(0,0))\n",
        "fig = draw_szpakowski_line(path)\n",
        "plt.show()"
      ],
      "metadata": {
        "colab": {
          "base_uri": "https://localhost:8080/",
          "height": 229
        },
        "id": "StwPK9OnIeCe",
        "outputId": "232d2ae5-ff70-4131-e025-3dd43b006c29"
      },
      "execution_count": 31,
      "outputs": [
        {
          "output_type": "display_data",
          "data": {
            "text/plain": [
              "<Figure size 500x500 with 1 Axes>"
            ],
            "image/png": "[encoded data removed]"
          },
          "metadata": {}
        }
      ]
    },
    {
      "cell_type": "code",
      "source": [
        "# steps\n",
        "fancy_pattern = sequence(\n",
        "    square,\n",
        "    repeat(zigzag.articulate([\n",
        "        (1, {'steps': 'expr:i + 1'}),\n",
        "        (3, {'steps': 'expr:i + 1'})\n",
        "    ]), 3)\n",
        ")"
      ],
      "metadata": {
        "id": "TyLXLY83K0JA"
      },
      "execution_count": null,
      "outputs": []
    }
  ]
}